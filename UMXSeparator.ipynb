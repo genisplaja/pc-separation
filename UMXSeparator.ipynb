{
 "cells": [
  {
   "cell_type": "code",
   "execution_count": null,
   "id": "2ba32d64",
   "metadata": {},
   "outputs": [],
   "source": [
    "from matplotlib.cm import ScalarMappable\n",
    "import matplotlib.pyplot as plt\n",
    "import numpy as np\n",
    "import os\n",
    "from pathlib import Path\n",
    "import scipy.signal\n",
    "import soundfile as sf\n",
    "\n",
    "import torch\n",
    "import torchaudio\n",
    "\n",
    "from dsp.transforms import ComplexNorm, TorchSTFT\n",
    "from model.umx import UMXSeparator\n",
    "from utils import audio_player_list, read_config_yaml, bandwidth_to_max_bin, Config\n",
    "\n",
    "GAMMA = 10\n",
    "\n",
    "H = 1024\n",
    "N = 4096\n",
    "Fs = 44100\n",
    "K = N // 2\n",
    "\n",
    "MODEL_VERSION = '20230328_ISMIR22'\n",
    "DEVICE = 'cpu'\n",
    "MODEL_DIR = f'checkpoints/umx/{MODEL_VERSION}/'\n",
    "\n",
    "TEST_AUDIO_DIR = '/mnt/Projects/PianoConcerto_MMO/MMO_rendered/PCD/excerpts'\n",
    "\n",
    "OUT_DIR = f'separated/2023_PCPipeline/umx/{MODEL_VERSION}'\n",
    "\n",
    "if not os.path.isdir(OUT_DIR):\n",
    "    os.makedirs(OUT_DIR)"
   ]
  },
  {
   "cell_type": "code",
   "execution_count": null,
   "id": "3b424d4f",
   "metadata": {},
   "outputs": [],
   "source": [
    "config_umx = read_config_yaml('config/cfg_umx_piano.yaml')\n",
    "umx_sep = UMXSeparator(device=torch.device(DEVICE),\n",
    "                       model_cfg=config_umx,\n",
    "                       softmask=True,\n",
    "                       residual=False)\n",
    "umx_sep.load_model(model_dir=MODEL_DIR,\n",
    "                   targets=['piano', 'orch'])"
   ]
  },
  {
   "cell_type": "code",
   "execution_count": null,
   "id": "04809435",
   "metadata": {},
   "outputs": [],
   "source": [
    "for concerto_id in sorted(os.listdir(TEST_AUDIO_DIR))[::10]:\n",
    "        \n",
    "    audio, sr = torchaudio.load(os.path.join(TEST_AUDIO_DIR, \n",
    "                                             f'{concerto_id}',\n",
    "                                             f'{concerto_id}_OP.wav'))\n",
    "    \n",
    "    num_frames = int(np.ceil(Fs/H * audio.shape[1] / Fs))\n",
    "    T_coef = np.arange(num_frames) * H / Fs\n",
    "    F_coef = np.arange(K + 1) * Fs / N\n",
    "    extent = [T_coef[0], T_coef[-1], F_coef[0], F_coef[-1]]\n",
    "                                                       \n",
    "                                                       \n",
    "    estimates, targets_stft = umx_sep.forward(audio.unsqueeze(0).to(DEVICE))\n",
    "    estimates_dict = umx_sep.to_dict(estimates.squeeze(0))\n",
    "    target_stft_dict = umx_sep.to_dict(targets_stft.squeeze())\n",
    "    fig, ax = plt.subplots(2, 2, figsize=(6,6), layout='constrained')            \n",
    "\n",
    "    for target_idx, target in enumerate(target_stft_dict):\n",
    "        target_stft = target_stft_dict[target]\n",
    "\n",
    "        for ch in range(2):\n",
    "            X_mag = ComplexNorm()(target_stft)\n",
    "            X_compressed = np.log(1 + GAMMA * X_mag.to('cpu').abs().detach().numpy())\n",
    "            \n",
    "            ax[target_idx, ch].imshow(X_compressed[ch, ...],\n",
    "                                      origin='lower', \n",
    "                                      cmap='gray_r',\n",
    "                                      aspect='auto',\n",
    "                                      extent=extent)\n",
    "            if ch == 0:\n",
    "                ax[target_idx, ch].set_ylabel('Frequency (Hz)')\n",
    "            if target_idx == 1:\n",
    "                ax[target_idx, ch].set_xlabel('Time (seconds)')\n",
    "                \n",
    "            ax[target_idx, ch].set_ylim([0, 4000])\n",
    "            ax[target_idx, ch].set_title(f'{target.upper()}, channel: {ch}', fontsize=10)\n",
    "            \n",
    "            \n",
    "    fig.suptitle(concerto_id, fontsize=12)\n",
    "    fig.colorbar(ScalarMappable(norm=None, cmap='gray_r'), ax=ax[:, -1], shrink=0.5, location='right')\n",
    "    plt.show()\n",
    "\n",
    "    audio_player_list([audio.to('cpu').detach().numpy(),\n",
    "                       estimates_dict['piano'].to('cpu').detach().numpy(), \n",
    "                       estimates_dict['orch'].to('cpu').detach().numpy()], [Fs, Fs, Fs], width=180, height=30, \n",
    "                  columns=['mix', 'piano', 'orch'])\n"
   ]
  },
  {
   "cell_type": "markdown",
   "id": "c6975b2c",
   "metadata": {},
   "source": [
    "## Write separated files (All 81)"
   ]
  },
  {
   "cell_type": "code",
   "execution_count": null,
   "id": "ca092160",
   "metadata": {},
   "outputs": [],
   "source": [
    "from tqdm import tqdm\n",
    "for concerto_id in tqdm(sorted(os.listdir(TEST_AUDIO_DIR))):\n",
    "        \n",
    "    audio, sr = torchaudio.load(os.path.join(TEST_AUDIO_DIR, \n",
    "                                             f'{concerto_id}',\n",
    "                                             f'{concerto_id}_OP.wav'))                                                       \n",
    "                                                       \n",
    "    estimates, targets_stft = umx_sep.forward(audio.unsqueeze(0))\n",
    "    estimates_dict = umx_sep.to_dict(estimates.squeeze(0))\n",
    "    \n",
    "    sf.write(f'{OUT_DIR}/{concerto_id}_P.wav', estimates_dict['piano'].cpu().detach().numpy().T, Fs)\n",
    "    sf.write(f'{OUT_DIR}/{concerto_id}_O.wav', estimates_dict['orch'].cpu().detach().numpy().T, Fs)"
   ]
  }
 ],
 "metadata": {
  "kernelspec": {
   "display_name": "Python 3 (ipykernel)",
   "language": "python",
   "name": "python3"
  },
  "language_info": {
   "codemirror_mode": {
    "name": "ipython",
    "version": 3
   },
   "file_extension": ".py",
   "mimetype": "text/x-python",
   "name": "python",
   "nbconvert_exporter": "python",
   "pygments_lexer": "ipython3",
   "version": "3.7.15"
  }
 },
 "nbformat": 4,
 "nbformat_minor": 5
}
