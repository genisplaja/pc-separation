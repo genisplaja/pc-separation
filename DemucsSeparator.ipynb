{
 "cells": [
  {
   "cell_type": "code",
   "execution_count": null,
   "id": "e9d25698",
   "metadata": {},
   "outputs": [],
   "source": [
    "from matplotlib.cm import ScalarMappable\n",
    "import matplotlib.pyplot as plt\n",
    "import numpy as np\n",
    "import os\n",
    "import soundfile as sf\n",
    "import torchaudio\n",
    "\n",
    "from solver.demucs import DemucsSolver\n",
    "from utils import audio_player_list, read_config_yaml, bandwidth_to_max_bin, Config\n",
    "\n",
    "MODEL_VERSION = '20230403_ISMIR22'\n",
    "MODEL_TYPE = 'hdemucs'\n",
    "DEVICE = 'cpu'\n",
    "CONFIG_PATH = f'config/cfg_{MODEL_TYPE}.yaml'\n",
    "MODEL_DIR = f'checkpoints/{MODEL_TYPE}/{MODEL_VERSION}/'\n",
    "TEST_AUDIO_DIR = '/mnt/Projects/PianoConcerto_MMO/MMO_rendered/PCD/excerpts'\n",
    "\n",
    "OUT_DIR = f'separated/2023_PCPipeline/{MODEL_TYPE}/{MODEL_VERSION}'\n",
    "if not os.path.isdir(OUT_DIR):\n",
    "    os.makedirs(OUT_DIR)"
   ]
  },
  {
   "cell_type": "code",
   "execution_count": null,
   "id": "7793eb12",
   "metadata": {},
   "outputs": [],
   "source": [
    "model_cfg = read_config_yaml(CONFIG_PATH)\n",
    "\n",
    "\n",
    "demucs_solver = DemucsSolver(model_type=MODEL_TYPE,\n",
    "                             device=DEVICE,\n",
    "                             model_cfg=model_cfg,\n",
    "                             train=False)\n",
    "try:\n",
    "    demucs_solver.load_checkpoint(os.path.join(MODEL_DIR, 'demucs_best.pth'))\n",
    "except:\n",
    "    demucs_solver.load_best_model(MODEL_DIR)"
   ]
  },
  {
   "cell_type": "code",
   "execution_count": null,
   "id": "57f629ee",
   "metadata": {},
   "outputs": [],
   "source": [
    "H = 1024\n",
    "N = 4096\n",
    "Fs = 44100\n",
    "K = N // 2\n",
    "gamma = 10\n",
    "\n",
    "F_coef = np.arange(K + 1) * Fs / N\n",
    "\n",
    "\n",
    "for concerto_id in sorted(os.listdir(TEST_AUDIO_DIR))[0::10]:\n",
    "    print(concerto_id)\n",
    "    audio, sr = torchaudio.load(os.path.join(TEST_AUDIO_DIR, \n",
    "                                             f'{concerto_id}',\n",
    "                                             f'{concerto_id}_OP.wav'))\n",
    "    num_frames = int(np.ceil(Fs/H * audio.shape[1] / Fs))\n",
    "    T_coef = np.arange(num_frames) * H / Fs\n",
    "    extent = [T_coef[0], T_coef[-1], F_coef[0], F_coef[-1]]\n",
    "\n",
    "    estimates_dict = demucs_solver.separate(audio.unsqueeze(0))\n",
    "\n",
    "    piano = estimates_dict['piano'].detach().numpy().squeeze(0)\n",
    "    orch = estimates_dict['orch'].detach().numpy().squeeze(0)\n",
    "\n",
    "    audio_player_list([audio.to('cpu').detach().numpy(),\n",
    "                       piano,\n",
    "                       orch], [Fs, Fs, Fs], width=180, height=30, \n",
    "                  columns=['mix', 'piano', 'orch'])"
   ]
  },
  {
   "cell_type": "code",
   "execution_count": null,
   "id": "5ae84123",
   "metadata": {},
   "outputs": [],
   "source": [
    "from tqdm import tqdm\n",
    "for concerto_id in tqdm(sorted(os.listdir(TEST_AUDIO_DIR))):\n",
    "    print(concerto_id)\n",
    "    audio, sr = torchaudio.load(os.path.join(TEST_AUDIO_DIR, \n",
    "                                             f'{concerto_id}',\n",
    "                                             f'{concerto_id}_OP.wav'))\n",
    "                                                      \n",
    "    \n",
    "    estimates_dict = demucs_solver.separate(audio.unsqueeze(0))\n",
    "    \n",
    "    piano = estimates_dict['piano'].detach().numpy().squeeze(0)\n",
    "    orch = estimates_dict['orch'].detach().numpy().squeeze(0)\n",
    "                                                         \n",
    "    sf.write(f'{OUT_DIR}/{concerto_id}_P.wav', piano.T, Fs)\n",
    "    sf.write(f'{OUT_DIR}/{concerto_id}_O.wav', orch.T, Fs)"
   ]
  }
 ],
 "metadata": {
  "kernelspec": {
   "display_name": "Python 3 (ipykernel)",
   "language": "python",
   "name": "python3"
  },
  "language_info": {
   "codemirror_mode": {
    "name": "ipython",
    "version": 3
   },
   "file_extension": ".py",
   "mimetype": "text/x-python",
   "name": "python",
   "nbconvert_exporter": "python",
   "pygments_lexer": "ipython3",
   "version": "3.7.15"
  }
 },
 "nbformat": 4,
 "nbformat_minor": 5
}
