{
 "cells": [
  {
   "cell_type": "markdown",
   "id": "a022561e-0af5-4f68-84ef-1db654e8e468",
   "metadata": {},
   "source": [
    "### Download the [Piano Concerto Dataset (PCD)](link:https://audiolabs-erlangen.de/resources/MIR/PCD) and checkpoints"
   ]
  },
  {
   "cell_type": "code",
   "execution_count": null,
   "id": "c2e09585-8817-4bcd-ad81-000e3f68c3b4",
   "metadata": {
    "scrolled": true
   },
   "outputs": [],
   "source": [
    "# Download the test dataset PCD and unzip it\n",
    "!wget https://www.audiolabs-erlangen.de/resources/MIR/PCD/PCD_1.0.0.zip\n",
    "!unzip PCD_1.0.0.zip\n",
    "!chmod -R 775 PCD_1.0.0\n",
    "!rm PCD_1.0.0.zip\n",
    "\n",
    "# Download the pre-trained weights\n",
    "!gdown --folder 'https://drive.google.com/drive/folders/1-zcdkHWUcfehaTjoxp-eCjAjZevDGxSu' -O checkpoints"
   ]
  },
  {
   "cell_type": "markdown",
   "id": "1e2e950a-e6de-470b-adf5-ae48ceee6a29",
   "metadata": {},
   "source": [
    "### Import packages, set constants"
   ]
  },
  {
   "cell_type": "code",
   "execution_count": null,
   "id": "ced25041-324f-4654-8eea-a6d4d08aa0ae",
   "metadata": {},
   "outputs": [],
   "source": [
    "import numpy as np\n",
    "import os\n",
    "from pathlib import Path\n",
    "import torch\n",
    "import torchaudio\n",
    "\n",
    "from utils import audio_player_list, init_separator\n",
    "\n",
    "\n",
    "TEST_AUDIO_DIR = 'PCD_1.0.0/excerpts/'\n",
    "\n",
    "# MODEL_TYPE is to be chosen among UMX06, UMX20, SPL, DMC, HDMC\n",
    "# For more information, see https://audiolabs-erlangen.de/resources/MIR/2023-PianoConcertoSeparation\n",
    "MODEL_TYPE = 'HDMC'\n",
    "DEVICE = 'cpu'\n",
    "separator = init_separator(model_type=MODEL_TYPE,\n",
    "                           device=DEVICE)\n",
    "\n",
    "Fs = 44100"
   ]
  },
  {
   "cell_type": "markdown",
   "id": "897f2fa6-67c2-4075-99e9-ca82b8504e5e",
   "metadata": {},
   "source": [
    "### Separate various piano concertos from [PCD](link:https://audiolabs-erlangen.de/resources/MIR/PCD)"
   ]
  },
  {
   "cell_type": "code",
   "execution_count": null,
   "id": "74e89c5b-c0ae-42c2-9b1b-c4fabaf4cff5",
   "metadata": {},
   "outputs": [],
   "source": [
    "for concerto_id in sorted(os.listdir(TEST_AUDIO_DIR))[0::10]:\n",
    "    audio, sr = torchaudio.load(os.path.join(TEST_AUDIO_DIR, \n",
    "                                             f'{concerto_id}',\n",
    "                                             f'{concerto_id}_OP.wav'))\n",
    "\n",
    "    estimates_dict = separator.separate(audio.unsqueeze(0))\n",
    "\n",
    "    piano = estimates_dict['piano'].detach().numpy()\n",
    "    orch = estimates_dict['orch'].detach().numpy()\n",
    "\n",
    "    print(concerto_id)\n",
    "    audio_player_list([audio.to('cpu').detach().numpy(),\n",
    "                       piano,\n",
    "                       orch], [Fs, Fs, Fs], width=180, height=30, \n",
    "                  columns=['mix', 'piano', 'orch'])"
   ]
  },
  {
   "cell_type": "markdown",
   "id": "e2d61565-7532-454b-acf4-42cf66ca911c",
   "metadata": {},
   "source": [
    "### Compare different models"
   ]
  },
  {
   "cell_type": "code",
   "execution_count": null,
   "id": "5fa41641-ae6b-4663-8e78-598038c9dd76",
   "metadata": {},
   "outputs": [],
   "source": [
    "CONCERTO_ID = 'Schumann_Op054-01-mm019-024_ES-V1' # See also metadata.csv file\n",
    "\n",
    "audio, sr = torchaudio.load(os.path.join(TEST_AUDIO_DIR, \n",
    "                                         f'{CONCERTO_ID}',\n",
    "                                         f'{CONCERTO_ID}_OP.wav'))\n",
    "\n",
    "for model in ['UMX06', 'UMX20', 'SPL', 'DMC', 'HDMC']:\n",
    "    separator = init_separator(model_type=model,\n",
    "                               device=DEVICE)\n",
    "    \n",
    "    estimates_dict = separator.separate(audio.unsqueeze(0))\n",
    "\n",
    "    piano = estimates_dict['piano'].detach().numpy()\n",
    "    orch = estimates_dict['orch'].detach().numpy()\n",
    "\n",
    "    print(model)\n",
    "    audio_player_list([audio.to('cpu').detach().numpy(),\n",
    "                       piano,\n",
    "                       orch], [Fs, Fs, Fs], width=180, height=30, \n",
    "                      columns=['mix', 'piano', 'orch'])    "
   ]
  }
 ],
 "metadata": {
  "kernelspec": {
   "display_name": "Python 3 (ipykernel)",
   "language": "python",
   "name": "python3"
  },
  "language_info": {
   "codemirror_mode": {
    "name": "ipython",
    "version": 3
   },
   "file_extension": ".py",
   "mimetype": "text/x-python",
   "name": "python",
   "nbconvert_exporter": "python",
   "pygments_lexer": "ipython3",
   "version": "3.11.5"
  }
 },
 "nbformat": 4,
 "nbformat_minor": 5
}
